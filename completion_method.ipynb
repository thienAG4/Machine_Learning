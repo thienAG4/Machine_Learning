{
 "cells": [
  {
   "cell_type": "markdown",
   "id": "fda91f49",
   "metadata": {},
   "source": [
    "Dataset description"
   ]
  },
  {
   "cell_type": "code",
   "execution_count": 1,
   "id": "7cd58c1b",
   "metadata": {},
   "outputs": [],
   "source": [
    "import pandas as pd\n",
    "import numpy as np"
   ]
  },
  {
   "cell_type": "code",
   "execution_count": 3,
   "id": "a7826c34",
   "metadata": {},
   "outputs": [
    {
     "name": "stdout",
     "output_type": "stream",
     "text": [
      "<class 'pandas.core.frame.DataFrame'>\n",
      "RangeIndex: 102 entries, 0 to 101\n",
      "Data columns (total 6 columns):\n",
      " #   Column           Non-Null Count  Dtype  \n",
      "---  ------           --------------  -----  \n",
      " 0   ID               102 non-null    int64  \n",
      " 1   Name             102 non-null    object \n",
      " 2   Age              102 non-null    int64  \n",
      " 3   Salary           80 non-null     float64\n",
      " 4   YearsExperience  87 non-null     float64\n",
      " 5   Children         87 non-null     float64\n",
      "dtypes: float64(3), int64(2), object(1)\n",
      "memory usage: 4.9+ KB\n"
     ]
    }
   ],
   "source": [
    "df = pd.read_csv(\"mock_data.csv\")\n",
    "df.info()"
   ]
  },
  {
   "cell_type": "markdown",
   "id": "17d94055",
   "metadata": {},
   "source": [
    "## Point-wise imputation\n",
    "Point-wise Imputation (Điền từng điểm)\n",
    "Mô tả: Điền giá trị thiếu bằng một giá trị cố định hoặc ước tính (ví dụ: trung bình, trung vị, mode, hoặc giá trị ngẫu nhiên).\n",
    "\n",
    "Ưu điểm: đơn giản và nhanh chóng.\n",
    "\n",
    "Nhược điểm: Có thể làm sai lệch phương sai và mối tương quan giữa các biến."
   ]
  },
  {
   "cell_type": "markdown",
   "id": "9730ff72",
   "metadata": {},
   "source": [
    "Use pandas built-in function"
   ]
  },
  {
   "cell_type": "code",
   "execution_count": 16,
   "id": "7261e628",
   "metadata": {},
   "outputs": [
    {
     "name": "stdout",
     "output_type": "stream",
     "text": [
      "<class 'pandas.core.frame.DataFrame'>\n",
      "RangeIndex: 102 entries, 0 to 101\n",
      "Data columns (total 6 columns):\n",
      " #   Column           Non-Null Count  Dtype  \n",
      "---  ------           --------------  -----  \n",
      " 0   ID               102 non-null    int64  \n",
      " 1   Name             102 non-null    object \n",
      " 2   Age              102 non-null    int64  \n",
      " 3   Salary           102 non-null    float64\n",
      " 4   YearsExperience  87 non-null     float64\n",
      " 5   Children         87 non-null     float64\n",
      "dtypes: float64(3), int64(2), object(1)\n",
      "memory usage: 4.9+ KB\n"
     ]
    },
    {
     "name": "stderr",
     "output_type": "stream",
     "text": [
      "/tmp/ipykernel_2535/4077784138.py:6: FutureWarning: A value is trying to be set on a copy of a DataFrame or Series through chained assignment using an inplace method.\n",
      "The behavior will change in pandas 3.0. This inplace method will never work because the intermediate object on which we are setting values always behaves as a copy.\n",
      "\n",
      "For example, when doing 'df[col].method(value, inplace=True)', try using 'df.method({col: value}, inplace=True)' or df[col] = df[col].method(value) instead, to perform the operation inplace on the original object.\n",
      "\n",
      "\n",
      "  df_point_wise_pandas['Salary'].fillna(mean_salary, inplace= True)\n"
     ]
    }
   ],
   "source": [
    "\n",
    "# Xac dinh salary trung binh\n",
    "mean_salary = df['Salary'].mean()\n",
    "df_point_wise_pandas = df.copy()\n",
    "\n",
    "\n",
    "df_point_wise_pandas['Salary'].fillna(mean_salary, inplace= True)\n",
    "df_point_wise_pandas.info()\n"
   ]
  },
  {
   "cell_type": "markdown",
   "id": "2ab7f509",
   "metadata": {},
   "source": [
    "Use scikit-learn libs"
   ]
  },
  {
   "cell_type": "code",
   "execution_count": 17,
   "id": "2a7eb189",
   "metadata": {},
   "outputs": [
    {
     "name": "stdout",
     "output_type": "stream",
     "text": [
      "<class 'pandas.core.frame.DataFrame'>\n",
      "RangeIndex: 102 entries, 0 to 101\n",
      "Data columns (total 6 columns):\n",
      " #   Column           Non-Null Count  Dtype  \n",
      "---  ------           --------------  -----  \n",
      " 0   ID               102 non-null    int64  \n",
      " 1   Name             102 non-null    object \n",
      " 2   Age              102 non-null    int64  \n",
      " 3   Salary           102 non-null    float64\n",
      " 4   YearsExperience  87 non-null     float64\n",
      " 5   Children         87 non-null     float64\n",
      "dtypes: float64(3), int64(2), object(1)\n",
      "memory usage: 4.9+ KB\n"
     ]
    }
   ],
   "source": [
    "from sklearn.impute import SimpleImputer\n",
    "\n",
    "mean_imputer = SimpleImputer(strategy='mean')\n",
    "\n",
    "df_point_wise_scikit = df.copy()\n",
    "df_point_wise_scikit['Salary'] = mean_imputer.fit_transform(df[['Salary']])\n",
    "# We can observe that the salary columns is filled\n",
    "df_point_wise_scikit.info()\n"
   ]
  },
  {
   "cell_type": "markdown",
   "id": "7ead96b8",
   "metadata": {},
   "source": [
    "## Pair wise Deletion\n",
    "Chỉ sử dụng các dòng có dữ liệu đầy đủ cho từng cặp biến cụ thể khi thực hiện phân tích thống kê.\n",
    "\n",
    "Ưu điểm: Tận dụng tối đa dữ liệu có sẵn cho mỗi phép tính\n",
    "\n",
    "Nhược điểm: Kết quả có thể không nhất quán giữa các phân tích khác nhau"
   ]
  },
  {
   "cell_type": "code",
   "execution_count": 19,
   "id": "a626f58c",
   "metadata": {},
   "outputs": [
    {
     "data": {
      "text/plain": [
       "Index(['ID', 'Name', 'Age', 'Salary', 'YearsExperience', 'Children'], dtype='object')"
      ]
     },
     "execution_count": 19,
     "metadata": {},
     "output_type": "execute_result"
    }
   ],
   "source": [
    "df.columns"
   ]
  },
  {
   "cell_type": "code",
   "execution_count": 20,
   "id": "7cfcf1c6",
   "metadata": {},
   "outputs": [
    {
     "data": {
      "text/html": [
       "<div>\n",
       "<style scoped>\n",
       "    .dataframe tbody tr th:only-of-type {\n",
       "        vertical-align: middle;\n",
       "    }\n",
       "\n",
       "    .dataframe tbody tr th {\n",
       "        vertical-align: top;\n",
       "    }\n",
       "\n",
       "    .dataframe thead th {\n",
       "        text-align: right;\n",
       "    }\n",
       "</style>\n",
       "<table border=\"1\" class=\"dataframe\">\n",
       "  <thead>\n",
       "    <tr style=\"text-align: right;\">\n",
       "      <th></th>\n",
       "      <th>Salary</th>\n",
       "      <th>Age</th>\n",
       "      <th>YearsExperience</th>\n",
       "    </tr>\n",
       "  </thead>\n",
       "  <tbody>\n",
       "    <tr>\n",
       "      <th>Salary</th>\n",
       "      <td>1.000000</td>\n",
       "      <td>0.989290</td>\n",
       "      <td>0.969927</td>\n",
       "    </tr>\n",
       "    <tr>\n",
       "      <th>Age</th>\n",
       "      <td>0.989290</td>\n",
       "      <td>1.000000</td>\n",
       "      <td>0.990937</td>\n",
       "    </tr>\n",
       "    <tr>\n",
       "      <th>YearsExperience</th>\n",
       "      <td>0.969927</td>\n",
       "      <td>0.990937</td>\n",
       "      <td>1.000000</td>\n",
       "    </tr>\n",
       "  </tbody>\n",
       "</table>\n",
       "</div>"
      ],
      "text/plain": [
       "                   Salary       Age  YearsExperience\n",
       "Salary           1.000000  0.989290         0.969927\n",
       "Age              0.989290  1.000000         0.990937\n",
       "YearsExperience  0.969927  0.990937         1.000000"
      ]
     },
     "execution_count": 20,
     "metadata": {},
     "output_type": "execute_result"
    }
   ],
   "source": [
    "df[['Salary','Age','YearsExperience']].corr()"
   ]
  }
 ],
 "metadata": {
  "kernelspec": {
   "display_name": "base",
   "language": "python",
   "name": "python3"
  },
  "language_info": {
   "codemirror_mode": {
    "name": "ipython",
    "version": 3
   },
   "file_extension": ".py",
   "mimetype": "text/x-python",
   "name": "python",
   "nbconvert_exporter": "python",
   "pygments_lexer": "ipython3",
   "version": "3.13.2"
  }
 },
 "nbformat": 4,
 "nbformat_minor": 5
}
